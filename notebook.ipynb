{
 "cells": [
  {
   "cell_type": "markdown",
   "id": "fe0ea788-58dd-459e-8976-fafdb5c05c6d",
   "metadata": {},
   "source": [
    "![New York City schoolbus](schoolbus.jpg)\n",
    "\n",
    "Photo by [Jannis Lucas](https://unsplash.com/@jannis_lucas) on [Unsplash](https://unsplash.com).\n",
    "<br>\n",
    "\n",
    "Every year, American high school students take SATs, which are standardized tests intended to measure literacy, numeracy, and writing skills. There are three sections - reading, math, and writing, each with a **maximum score of 800 points**. These tests are extremely important for students and colleges, as they play a pivotal role in the admissions process.\n",
    "\n",
    "Analyzing the performance of schools is important for a variety of stakeholders, including policy and education professionals, researchers, government, and even parents considering which school their children should attend. \n",
    "\n",
    "You have been provided with a dataset called `schools.csv`, which is previewed below.\n",
    "\n",
    "You have been tasked with answering three key questions about New York City (NYC) public school SAT performance."
   ]
  },
  {
   "cell_type": "code",
   "execution_count": 1,
   "id": "d0eb4f16-5a99-460d-a5ba-706b7ef0bbe7",
   "metadata": {
    "ExecuteTime": {
     "end_time": "2024-05-19T06:32:41.762303600Z",
     "start_time": "2024-05-19T06:32:39.481953600Z"
    },
    "executionCancelledAt": null,
    "executionTime": 28,
    "id": "bA5ajAmk7XH6",
    "lastExecutedAt": 1716099922631,
    "lastExecutedByKernel": "0213391f-7058-47b7-9db9-fb610b17efeb",
    "lastScheduledRunId": null,
    "lastSuccessfullyExecutedCode": "import pandas as pd\n\n# Read in the data\nschools = pd.read_csv(\"schools.csv\")\n\n# Preview the data\nschools.head()",
    "outputsMetadata": {
     "0": {
      "height": 211,
      "type": "dataFrame"
     }
    }
   },
   "outputs": [
    {
     "data": {
      "text/html": [
       "<div>\n",
       "<style scoped>\n",
       "    .dataframe tbody tr th:only-of-type {\n",
       "        vertical-align: middle;\n",
       "    }\n",
       "\n",
       "    .dataframe tbody tr th {\n",
       "        vertical-align: top;\n",
       "    }\n",
       "\n",
       "    .dataframe thead th {\n",
       "        text-align: right;\n",
       "    }\n",
       "</style>\n",
       "<table border=\"1\" class=\"dataframe\">\n",
       "  <thead>\n",
       "    <tr style=\"text-align: right;\">\n",
       "      <th></th>\n",
       "      <th>school_name</th>\n",
       "      <th>borough</th>\n",
       "      <th>building_code</th>\n",
       "      <th>average_math</th>\n",
       "      <th>average_reading</th>\n",
       "      <th>average_writing</th>\n",
       "      <th>percent_tested</th>\n",
       "    </tr>\n",
       "  </thead>\n",
       "  <tbody>\n",
       "    <tr>\n",
       "      <th>0</th>\n",
       "      <td>New Explorations into Science, Technology and ...</td>\n",
       "      <td>Manhattan</td>\n",
       "      <td>M022</td>\n",
       "      <td>657</td>\n",
       "      <td>601</td>\n",
       "      <td>601</td>\n",
       "      <td>NaN</td>\n",
       "    </tr>\n",
       "    <tr>\n",
       "      <th>1</th>\n",
       "      <td>Essex Street Academy</td>\n",
       "      <td>Manhattan</td>\n",
       "      <td>M445</td>\n",
       "      <td>395</td>\n",
       "      <td>411</td>\n",
       "      <td>387</td>\n",
       "      <td>78.9</td>\n",
       "    </tr>\n",
       "    <tr>\n",
       "      <th>2</th>\n",
       "      <td>Lower Manhattan Arts Academy</td>\n",
       "      <td>Manhattan</td>\n",
       "      <td>M445</td>\n",
       "      <td>418</td>\n",
       "      <td>428</td>\n",
       "      <td>415</td>\n",
       "      <td>65.1</td>\n",
       "    </tr>\n",
       "    <tr>\n",
       "      <th>3</th>\n",
       "      <td>High School for Dual Language and Asian Studies</td>\n",
       "      <td>Manhattan</td>\n",
       "      <td>M445</td>\n",
       "      <td>613</td>\n",
       "      <td>453</td>\n",
       "      <td>463</td>\n",
       "      <td>95.9</td>\n",
       "    </tr>\n",
       "    <tr>\n",
       "      <th>4</th>\n",
       "      <td>Henry Street School for International Studies</td>\n",
       "      <td>Manhattan</td>\n",
       "      <td>M056</td>\n",
       "      <td>410</td>\n",
       "      <td>406</td>\n",
       "      <td>381</td>\n",
       "      <td>59.7</td>\n",
       "    </tr>\n",
       "  </tbody>\n",
       "</table>\n",
       "</div>"
      ],
      "text/plain": [
       "                                         school_name    borough building_code  \\\n",
       "0  New Explorations into Science, Technology and ...  Manhattan          M022   \n",
       "1                               Essex Street Academy  Manhattan          M445   \n",
       "2                       Lower Manhattan Arts Academy  Manhattan          M445   \n",
       "3    High School for Dual Language and Asian Studies  Manhattan          M445   \n",
       "4      Henry Street School for International Studies  Manhattan          M056   \n",
       "\n",
       "   average_math  average_reading  average_writing  percent_tested  \n",
       "0           657              601              601             NaN  \n",
       "1           395              411              387            78.9  \n",
       "2           418              428              415            65.1  \n",
       "3           613              453              463            95.9  \n",
       "4           410              406              381            59.7  "
      ]
     },
     "execution_count": 1,
     "metadata": {},
     "output_type": "execute_result"
    }
   ],
   "source": [
    "import pandas as pd\n",
    "\n",
    "# Read in the data\n",
    "schools = pd.read_csv(\"schools.csv\")\n",
    "\n",
    "# Preview the data\n",
    "schools.head()"
   ]
  },
  {
   "cell_type": "markdown",
   "id": "1b885d4f-7ae4-4f66-8735-769773948ab1",
   "metadata": {},
   "source": [
    "## Finding schools with the best math scores"
   ]
  },
  {
   "cell_type": "code",
   "execution_count": 2,
   "id": "1883c191-977d-47bd-96f7-c40fa28a3bcb",
   "metadata": {
    "executionCancelledAt": null,
    "executionTime": 53,
    "lastExecutedAt": 1716099922684,
    "lastExecutedByKernel": "0213391f-7058-47b7-9db9-fb610b17efeb",
    "lastScheduledRunId": null,
    "lastSuccessfullyExecutedCode": "good_math_score = 800*80/100 #Threshold\n# Subset the dataset two get only the two columns of \"school_name\" and \"average_math\" where the average math score is greater than the threshold. Then sort the dataset according to average_math\nbest_math_schools = schools[schools[\"average_math\"]>good_math_score][[\"school_name\", \"average_math\"]].sort_values(\"average_math\", ascending=False)\nbest_math_schools.head()",
    "outputsMetadata": {
     "0": {
      "height": 196,
      "type": "dataFrame"
     }
    }
   },
   "outputs": [
    {
     "data": {
      "text/html": [
       "<div>\n",
       "<style scoped>\n",
       "    .dataframe tbody tr th:only-of-type {\n",
       "        vertical-align: middle;\n",
       "    }\n",
       "\n",
       "    .dataframe tbody tr th {\n",
       "        vertical-align: top;\n",
       "    }\n",
       "\n",
       "    .dataframe thead th {\n",
       "        text-align: right;\n",
       "    }\n",
       "</style>\n",
       "<table border=\"1\" class=\"dataframe\">\n",
       "  <thead>\n",
       "    <tr style=\"text-align: right;\">\n",
       "      <th></th>\n",
       "      <th>school_name</th>\n",
       "      <th>average_math</th>\n",
       "    </tr>\n",
       "  </thead>\n",
       "  <tbody>\n",
       "    <tr>\n",
       "      <th>88</th>\n",
       "      <td>Stuyvesant High School</td>\n",
       "      <td>754</td>\n",
       "    </tr>\n",
       "    <tr>\n",
       "      <th>170</th>\n",
       "      <td>Bronx High School of Science</td>\n",
       "      <td>714</td>\n",
       "    </tr>\n",
       "    <tr>\n",
       "      <th>93</th>\n",
       "      <td>Staten Island Technical High School</td>\n",
       "      <td>711</td>\n",
       "    </tr>\n",
       "    <tr>\n",
       "      <th>365</th>\n",
       "      <td>Queens High School for the Sciences at York Co...</td>\n",
       "      <td>701</td>\n",
       "    </tr>\n",
       "    <tr>\n",
       "      <th>68</th>\n",
       "      <td>High School for Mathematics, Science, and Engi...</td>\n",
       "      <td>683</td>\n",
       "    </tr>\n",
       "  </tbody>\n",
       "</table>\n",
       "</div>"
      ],
      "text/plain": [
       "                                           school_name  average_math\n",
       "88                              Stuyvesant High School           754\n",
       "170                       Bronx High School of Science           714\n",
       "93                 Staten Island Technical High School           711\n",
       "365  Queens High School for the Sciences at York Co...           701\n",
       "68   High School for Mathematics, Science, and Engi...           683"
      ]
     },
     "execution_count": 2,
     "metadata": {},
     "output_type": "execute_result"
    }
   ],
   "source": [
    "good_math_score = 800*80/100 #Threshold\n",
    "# Subset the dataset two get only the two columns of \"school_name\" and \"average_math\" where the average math score is greater than the threshold. Then sort the dataset according to average_math\n",
    "best_math_schools = schools[schools[\"average_math\"]>good_math_score][[\"school_name\", \"average_math\"]].sort_values(\"average_math\", ascending=False)\n",
    "best_math_schools.head()"
   ]
  },
  {
   "cell_type": "markdown",
   "id": "450ceea5-37e0-432d-9a1f-d69787496c63",
   "metadata": {},
   "source": [
    "## Identifying the top 10 performing schools"
   ]
  },
  {
   "cell_type": "code",
   "execution_count": 3,
   "id": "1677eb0f-e80c-4dd3-939d-99ea37d4a3e8",
   "metadata": {
    "executionCancelledAt": null,
    "executionTime": 61,
    "lastExecutedAt": 1716099922745,
    "lastExecutedByKernel": "0213391f-7058-47b7-9db9-fb610b17efeb",
    "lastScheduledRunId": null,
    "lastSuccessfullyExecutedCode": "# Add a column that is the combination of the 3 components of the SAT score\nschools[\"total_SAT\"] = schools[\"average_math\"]+schools[\"average_reading\"]+schools[\"average_writing\"]\n# sort the schools dataset according to total_SAT and subset it to get the \"school_name\" and \"total_SAT\" of the first 10 rows\ntop_10_schools = schools.sort_values(\"total_SAT\", ascending = False)[[\"school_name\", \"total_SAT\"]].iloc[:10]\n\ntop_10_schools",
    "outputsMetadata": {
     "0": {
      "height": 321,
      "type": "dataFrame"
     }
    }
   },
   "outputs": [
    {
     "data": {
      "text/html": [
       "<div>\n",
       "<style scoped>\n",
       "    .dataframe tbody tr th:only-of-type {\n",
       "        vertical-align: middle;\n",
       "    }\n",
       "\n",
       "    .dataframe tbody tr th {\n",
       "        vertical-align: top;\n",
       "    }\n",
       "\n",
       "    .dataframe thead th {\n",
       "        text-align: right;\n",
       "    }\n",
       "</style>\n",
       "<table border=\"1\" class=\"dataframe\">\n",
       "  <thead>\n",
       "    <tr style=\"text-align: right;\">\n",
       "      <th></th>\n",
       "      <th>school_name</th>\n",
       "      <th>total_SAT</th>\n",
       "    </tr>\n",
       "  </thead>\n",
       "  <tbody>\n",
       "    <tr>\n",
       "      <th>88</th>\n",
       "      <td>Stuyvesant High School</td>\n",
       "      <td>2144</td>\n",
       "    </tr>\n",
       "    <tr>\n",
       "      <th>170</th>\n",
       "      <td>Bronx High School of Science</td>\n",
       "      <td>2041</td>\n",
       "    </tr>\n",
       "    <tr>\n",
       "      <th>93</th>\n",
       "      <td>Staten Island Technical High School</td>\n",
       "      <td>2041</td>\n",
       "    </tr>\n",
       "    <tr>\n",
       "      <th>174</th>\n",
       "      <td>High School of American Studies at Lehman College</td>\n",
       "      <td>2013</td>\n",
       "    </tr>\n",
       "    <tr>\n",
       "      <th>333</th>\n",
       "      <td>Townsend Harris High School</td>\n",
       "      <td>1981</td>\n",
       "    </tr>\n",
       "    <tr>\n",
       "      <th>365</th>\n",
       "      <td>Queens High School for the Sciences at York Co...</td>\n",
       "      <td>1947</td>\n",
       "    </tr>\n",
       "    <tr>\n",
       "      <th>5</th>\n",
       "      <td>Bard High School Early College</td>\n",
       "      <td>1914</td>\n",
       "    </tr>\n",
       "    <tr>\n",
       "      <th>280</th>\n",
       "      <td>Brooklyn Technical High School</td>\n",
       "      <td>1896</td>\n",
       "    </tr>\n",
       "    <tr>\n",
       "      <th>45</th>\n",
       "      <td>Eleanor Roosevelt High School</td>\n",
       "      <td>1889</td>\n",
       "    </tr>\n",
       "    <tr>\n",
       "      <th>68</th>\n",
       "      <td>High School for Mathematics, Science, and Engi...</td>\n",
       "      <td>1889</td>\n",
       "    </tr>\n",
       "  </tbody>\n",
       "</table>\n",
       "</div>"
      ],
      "text/plain": [
       "                                           school_name  total_SAT\n",
       "88                              Stuyvesant High School       2144\n",
       "170                       Bronx High School of Science       2041\n",
       "93                 Staten Island Technical High School       2041\n",
       "174  High School of American Studies at Lehman College       2013\n",
       "333                        Townsend Harris High School       1981\n",
       "365  Queens High School for the Sciences at York Co...       1947\n",
       "5                       Bard High School Early College       1914\n",
       "280                     Brooklyn Technical High School       1896\n",
       "45                       Eleanor Roosevelt High School       1889\n",
       "68   High School for Mathematics, Science, and Engi...       1889"
      ]
     },
     "execution_count": 3,
     "metadata": {},
     "output_type": "execute_result"
    }
   ],
   "source": [
    "# Add a column that is the combination of the 3 components of the SAT score\n",
    "schools[\"total_SAT\"] = schools[\"average_math\"]+schools[\"average_reading\"]+schools[\"average_writing\"]\n",
    "# sort the schools dataset according to total_SAT and subset it to get the \"school_name\" and \"total_SAT\" of the first 10 rows\n",
    "top_10_schools = schools.sort_values(\"total_SAT\", ascending = False)[[\"school_name\", \"total_SAT\"]].iloc[:10]\n",
    "\n",
    "top_10_schools"
   ]
  },
  {
   "cell_type": "markdown",
   "id": "79275383-f44f-4929-bcc1-f62e14a3fef1",
   "metadata": {},
   "source": [
    "## Locating the NYC borough with the largest standard deviation in SAT performance"
   ]
  },
  {
   "cell_type": "code",
   "execution_count": 4,
   "id": "c42f9c4a-3b95-4797-96f0-fec2c6f5e385",
   "metadata": {
    "executionCancelledAt": null,
    "executionTime": 55,
    "lastExecutedAt": 1716099922800,
    "lastExecutedByKernel": "0213391f-7058-47b7-9db9-fb610b17efeb",
    "lastScheduledRunId": null,
    "lastSuccessfullyExecutedCode": "# Group the schools according to \"borough\", focus on \"total_SAT\" and do the operation to get \"mean\",\"count\",and \"std\" - each value rounded up to get the last 2 digits\nschools_by_borough = schools.groupby(\"borough\")[\"total_SAT\"].agg([\"mean\",\"count\",\"std\"]).round(2)\nprint(schools_by_borough)",
    "outputsMetadata": {
     "0": {
      "height": 164,
      "type": "stream"
     }
    }
   },
   "outputs": [
    {
     "name": "stdout",
     "output_type": "stream",
     "text": [
      "                  mean  count     std\n",
      "borough                              \n",
      "Bronx          1202.72     98  150.39\n",
      "Brooklyn       1230.26    109  154.87\n",
      "Manhattan      1340.13     89  230.29\n",
      "Queens         1345.48     69  195.25\n",
      "Staten Island  1439.00     10  222.30\n"
     ]
    }
   ],
   "source": [
    "# Group the schools according to \"borough\", focus on \"total_SAT\" and do the operation to get \"mean\",\"count\",and \"std\" - each value rounded up to get the last 2 digits\n",
    "schools_by_borough = schools.groupby(\"borough\")[\"total_SAT\"].agg([\"mean\",\"count\",\"std\"]).round(2)\n",
    "print(schools_by_borough)"
   ]
  },
  {
   "cell_type": "code",
   "execution_count": 5,
   "id": "b5777b43-f2c6-46f9-ad83-ba4a744275dc",
   "metadata": {
    "executionCancelledAt": null,
    "executionTime": 57,
    "lastExecutedAt": 1716099922857,
    "lastExecutedByKernel": "0213391f-7058-47b7-9db9-fb610b17efeb",
    "lastScheduledRunId": null,
    "lastSuccessfullyExecutedCode": "largest_std_dev = schools_by_borough[schools_by_borough[\"std\"]== schools_by_borough[\"std\"].max()]\nprint(largest_std_dev)",
    "outputsMetadata": {
     "0": {
      "height": 80,
      "type": "stream"
     }
    }
   },
   "outputs": [
    {
     "name": "stdout",
     "output_type": "stream",
     "text": [
      "              mean  count     std\n",
      "borough                          \n",
      "Manhattan  1340.13     89  230.29\n"
     ]
    }
   ],
   "source": [
    "# subset the schools_by_borough to get only the borough with the highest \"std\"\n",
    "largest_std_dev = schools_by_borough[schools_by_borough[\"std\"]== schools_by_borough[\"std\"].max()]\n",
    "print(largest_std_dev)"
   ]
  },
  {
   "cell_type": "code",
   "execution_count": 6,
   "id": "c5417e75-bda6-49be-acbb-68d743c97ff2",
   "metadata": {
    "chartConfig": {
     "bar": {
      "hasRoundedCorners": true,
      "stacked": false
     },
     "type": "bar",
     "version": "v1"
    },
    "executionCancelledAt": null,
    "executionTime": 64,
    "lastExecutedAt": 1716099922921,
    "lastExecutedByKernel": "0213391f-7058-47b7-9db9-fb610b17efeb",
    "lastScheduledRunId": null,
    "lastSuccessfullyExecutedCode": "largest_std_dev = largest_std_dev.rename(columns={\"count\": \"num_schools\", \"mean\": \"average_SAT\", \"std\": \"std_SAT\"})\nlargest_std_dev",
    "outputsMetadata": {
     "0": {
      "height": 96,
      "type": "dataFrame"
     }
    },
    "visualizeDataframe": false
   },
   "outputs": [
    {
     "data": {
      "text/html": [
       "<div>\n",
       "<style scoped>\n",
       "    .dataframe tbody tr th:only-of-type {\n",
       "        vertical-align: middle;\n",
       "    }\n",
       "\n",
       "    .dataframe tbody tr th {\n",
       "        vertical-align: top;\n",
       "    }\n",
       "\n",
       "    .dataframe thead th {\n",
       "        text-align: right;\n",
       "    }\n",
       "</style>\n",
       "<table border=\"1\" class=\"dataframe\">\n",
       "  <thead>\n",
       "    <tr style=\"text-align: right;\">\n",
       "      <th></th>\n",
       "      <th>average_SAT</th>\n",
       "      <th>num_schools</th>\n",
       "      <th>std_SAT</th>\n",
       "    </tr>\n",
       "    <tr>\n",
       "      <th>borough</th>\n",
       "      <th></th>\n",
       "      <th></th>\n",
       "      <th></th>\n",
       "    </tr>\n",
       "  </thead>\n",
       "  <tbody>\n",
       "    <tr>\n",
       "      <th>Manhattan</th>\n",
       "      <td>1340.13</td>\n",
       "      <td>89</td>\n",
       "      <td>230.29</td>\n",
       "    </tr>\n",
       "  </tbody>\n",
       "</table>\n",
       "</div>"
      ],
      "text/plain": [
       "           average_SAT  num_schools  std_SAT\n",
       "borough                                     \n",
       "Manhattan      1340.13           89   230.29"
      ]
     },
     "execution_count": 6,
     "metadata": {},
     "output_type": "execute_result"
    }
   ],
   "source": [
    "#rename the columns so that it is easier to understand\n",
    "largest_std_dev = largest_std_dev.rename(columns={\"count\": \"num_schools\", \"mean\": \"average_SAT\", \"std\": \"std_SAT\"})\n",
    "largest_std_dev"
   ]
  }
 ],
 "metadata": {
  "editor": "DataLab",
  "kernelspec": {
   "display_name": "Python 3 (ipykernel)",
   "language": "python",
   "name": "python3"
  },
  "language_info": {
   "codemirror_mode": {
    "name": "ipython",
    "version": 3
   },
   "file_extension": ".py",
   "mimetype": "text/x-python",
   "name": "python",
   "nbconvert_exporter": "python",
   "pygments_lexer": "ipython3",
   "version": "3.11.7"
  }
 },
 "nbformat": 4,
 "nbformat_minor": 5
}
